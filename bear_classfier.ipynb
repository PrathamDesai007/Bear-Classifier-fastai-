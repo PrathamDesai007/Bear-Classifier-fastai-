{
 "cells": [
  {
   "cell_type": "markdown",
   "id": "8425ac0f-2c6b-455e-aca2-f2ed3a461bcc",
   "metadata": {},
   "source": [
    "# Bear Classifier\n",
    "\n",
    "This is a prototype tool to deploy a model which classifies 3 bear categories namely Black, Grizzly and Teddy (Toys)\n",
    "\n",
    "Upload a picture of a bear and click classify to the results"
   ]
  },
  {
   "cell_type": "code",
   "execution_count": null,
   "id": "388c2367-0060-4fa3-988d-a197c9e09196",
   "metadata": {},
   "outputs": [],
   "source": [
    "from fastbook import *\n",
    "from fastai.vision.widgets import *\n",
    "path = Path()"
   ]
  },
  {
   "cell_type": "code",
   "execution_count": null,
   "id": "3d30f879-0e0a-4f5d-b14c-c6cf482c40e3",
   "metadata": {},
   "outputs": [],
   "source": [
    "learn_inf = load_learner(path/'bear_model.pkl')\n",
    "learn_inf.dls.vocab"
   ]
  },
  {
   "cell_type": "code",
   "execution_count": null,
   "id": "b85dcb83-6e65-4b7c-8bf9-591f64554860",
   "metadata": {},
   "outputs": [],
   "source": [
    "btn_upload = widgets.FileUpload()"
   ]
  },
  {
   "cell_type": "code",
   "execution_count": null,
   "id": "ecba92d0-fede-4d5b-a855-0887fe681ddc",
   "metadata": {},
   "outputs": [],
   "source": [
    "out_pl = widgets.Output()"
   ]
  },
  {
   "cell_type": "code",
   "execution_count": null,
   "id": "c261028e-73e3-490f-8aa5-15536ec19dc6",
   "metadata": {},
   "outputs": [],
   "source": [
    "lbl_pred = widgets.Label()"
   ]
  },
  {
   "cell_type": "code",
   "execution_count": null,
   "id": "0ce5cf5d-c0a5-4139-aa55-b16a2b2a1830",
   "metadata": {},
   "outputs": [],
   "source": [
    "btn_run = widgets.Button(description='Classify')"
   ]
  },
  {
   "cell_type": "code",
   "execution_count": null,
   "id": "1caa75d7-231f-4a04-befe-b765b73c5b1d",
   "metadata": {},
   "outputs": [],
   "source": [
    "def on_click_classify(change):\n",
    "    img = PILImage.create(btn_upload.data[-1])\n",
    "    out_pl.clear_output()\n",
    "    with out_pl: display(img.to_thumb(128,128))\n",
    "    pred,pred_idx,probs = learn_inf.predict(img)\n",
    "    lbl_pred.value = f'Prediction: {pred}; Probability: {probs[pred_idx]:.04f}'\n",
    "\n",
    "btn_run.on_click(on_click_classify)"
   ]
  },
  {
   "cell_type": "code",
   "execution_count": null,
   "id": "483ab492-405f-4fcf-8841-2340f13ff1ee",
   "metadata": {},
   "outputs": [],
   "source": [
    "VBox([widgets.Label('Select your bear!'), \n",
    "      btn_upload, btn_run, out_pl, lbl_pred])"
   ]
  }
 ],
 "metadata": {
  "kernelspec": {
   "display_name": "Python 3",
   "language": "python",
   "name": "python3"
  },
  "language_info": {
   "codemirror_mode": {
    "name": "ipython",
    "version": 3
   },
   "file_extension": ".py",
   "mimetype": "text/x-python",
   "name": "python",
   "nbconvert_exporter": "python",
   "pygments_lexer": "ipython3",
   "version": "3.9.7"
  },
  "toc-showtags": false
 },
 "nbformat": 4,
 "nbformat_minor": 5
}
